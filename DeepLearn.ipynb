{
  "nbformat": 4,
  "nbformat_minor": 0,
  "metadata": {
    "colab": {
      "name": "DeepLearn.ipynb",
      "private_outputs": true,
      "provenance": [],
      "authorship_tag": "ABX9TyPQjfGas6jMp0b2bWDURZXj",
      "include_colab_link": true
    },
    "kernelspec": {
      "name": "python3",
      "display_name": "Python 3"
    },
    "language_info": {
      "name": "python"
    },
    "accelerator": "GPU"
  },
  "cells": [
    {
      "cell_type": "markdown",
      "metadata": {
        "id": "view-in-github",
        "colab_type": "text"
      },
      "source": [
        "<a href=\"https://colab.research.google.com/github/tegerte/1/blob/main/DeepLearn.ipynb\" target=\"_parent\"><img src=\"https://colab.research.google.com/assets/colab-badge.svg\" alt=\"Open In Colab\"/></a>"
      ]
    },
    {
      "cell_type": "code",
      "execution_count": null,
      "metadata": {
        "id": "sORlVLDXnfIs"
      },
      "outputs": [],
      "source": [
        "import numpy as np\n",
        "import matplotlib.pyplot as plt\n",
        "import keras\n",
        "\n",
        "from keras.models import Sequential\n",
        "from keras.layers import Dense\n",
        "from tensorflow.keras.optimizers import Adam\n",
        "from sklearn import datasets\n",
        "from seaborn.palettes import color_palette\n",
        "import seaborn as sb\n",
        "sb.set_theme(style=\"darkgrid\")\n",
        "LR=0.01\n",
        "n_pts=2000\n",
        "EP=200\n"
      ]
    },
    {
      "cell_type": "code",
      "source": [
        "def plot_controlgraphs(hist):\n",
        "  plt.plot(hist.history['accuracy'],label='accuracy')\n",
        "  plt.plot(hist.history['loss'],label='loss')\n",
        "  plt.title(str('accuracy and loss'))\n",
        "  plt.xlabel('epochs')\n",
        "  plt.legend()\n",
        "  plt.show()"
      ],
      "metadata": {
        "id": "Alr8zxKA7bj2"
      },
      "execution_count": null,
      "outputs": []
    },
    {
      "cell_type": "code",
      "source": [
        "\n",
        "def plot_decision_boundary(X, y, model,tol=1.0,cm='Spectral'):\n",
        "    x_span = np.linspace(min(X[:,0]) - tol, max(X[:,0]) + tol)\n",
        "    y_span = np.linspace(min(X[:,1]) - tol, max(X[:,1]) + tol)\n",
        "    xx, yy = np.meshgrid(x_span, y_span)\n",
        "    xx_, yy_ = xx.ravel(), yy.ravel()\n",
        "    grid = np.c_[xx_, yy_]\n",
        "    pred_func = model.predict(grid)\n",
        "    z = pred_func.reshape(xx.shape)\n",
        "    plt.contourf(xx, yy, z,cmap=cm)"
      ],
      "metadata": {
        "id": "M4vmk72H9Lqm"
      },
      "execution_count": null,
      "outputs": []
    },
    {
      "cell_type": "code",
      "source": [
        "X,y = datasets.make_circles(n_samples=n_pts, random_state=123, noise=0.1, factor=0.2)"
      ],
      "metadata": {
        "id": "wL-n10Fovh8j"
      },
      "execution_count": null,
      "outputs": []
    },
    {
      "cell_type": "code",
      "source": [
        "plt.scatter(X[y==0,0],X[y==0,1])\n",
        "plt.scatter(X[y==1,0],X[y==1,1]);"
      ],
      "metadata": {
        "id": "JDyOUr6Kvin3"
      },
      "execution_count": null,
      "outputs": []
    },
    {
      "cell_type": "code",
      "source": [
        "model = Sequential()\n",
        "\n",
        "model.add(Dense(units=4,input_shape=(2,),activation='sigmoid'))\n",
        "model.add(Dense(units=1,activation='sigmoid'))\n",
        "model.compile(Adam(learning_rate=LR) ,\n",
        "              loss='binary_crossentropy',\n",
        "              metrics=['accuracy'])\n",
        "h=model.fit(x=X,y=y,\n",
        "            verbose=0,\n",
        "            batch_size=100,\n",
        "            epochs=EP,\n",
        "            shuffle = 'true')\n",
        "plot_controlgraphs(h)"
      ],
      "metadata": {
        "id": "TPaEGvW6w_Ag"
      },
      "execution_count": null,
      "outputs": []
    },
    {
      "cell_type": "code",
      "source": [
        "_, ax = plt.subplots(figsize=(12,12))\n",
        "plot_decision_boundary(X, y, model, tol=0.25,cm='RdYlGn')\n",
        "ax.scatter(X[:n_pts,0], X[:n_pts,1])\n",
        "ax.scatter(X[n_pts:,0], X[n_pts:,1],color=sb.color_palette()[1]);"
      ],
      "metadata": {
        "id": "JGsfYlxdzQ4W"
      },
      "execution_count": null,
      "outputs": []
    },
    {
      "cell_type": "code",
      "source": [
        "\n"
      ],
      "metadata": {
        "id": "EMQW1MoTzgk9"
      },
      "execution_count": null,
      "outputs": []
    },
    {
      "cell_type": "code",
      "source": [
        ""
      ],
      "metadata": {
        "id": "r75xNBZszlKN"
      },
      "execution_count": null,
      "outputs": []
    }
  ]
}