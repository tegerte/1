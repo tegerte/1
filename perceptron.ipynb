{
 "cells": [
  {
   "cell_type": "code",
   "execution_count": 145,
   "id": "84895bf9-b649-448e-bebb-4d57064b2e50",
   "metadata": {},
   "outputs": [],
   "source": [
    "import numpy as np\n",
    "import matplotlib.pyplot as plt\n",
    "from collections import namedtuple\n",
    "%matplotlib inline\n",
    "np.random.seed(42)"
   ]
  },
  {
   "cell_type": "code",
   "execution_count": 146,
   "id": "c2af7a53-d740-4887-879d-fc12e748f38a",
   "metadata": {},
   "outputs": [],
   "source": [
    "def draw(x1,x2):\n",
    "    \"\"\" Draw a line from two vals \"\"\"\n",
    "    ln = plt.plot(x1,x2)"
   ]
  },
  {
   "cell_type": "code",
   "execution_count": 147,
   "id": "65c82ae6-f00e-4082-8d07-4515d61badae",
   "metadata": {},
   "outputs": [],
   "source": [
    "def sigmoid(score):\n",
    "  return 1/(1+np.exp(-score))"
   ]
  },
  {
   "cell_type": "code",
   "execution_count": 148,
   "id": "fbe65b16-d398-4414-b2ad-1ee2c0fd8aab",
   "metadata": {},
   "outputs": [],
   "source": [
    "def calculate_error(line_parameters, points , y):\n",
    "  n=points.shape[0]\n",
    "  p= sigmoid(points*line_parameters)\n",
    "  cross_entropy=-(1/n)*(np.log(p).T*y + np.log(1-p).T*(1-y))\n",
    "  return cross_entropy"
   ]
  },
  {
   "cell_type": "code",
   "execution_count": 149,
   "id": "20a20504-24ec-49b2-84b6-5d3618aff2e2",
   "metadata": {},
   "outputs": [],
   "source": [
    "def gradient_descent(line_parameters, points, y , alpha):\n",
    "  n=points.shape[0]\n",
    "  for i in range(1000):\n",
    "    p=sigmoid(points*line_parameters)\n",
    "    gradient= points.T*(p-y)*(alpha/n)\n",
    "    line_parameters = line_parameters - gradient\n",
    "\n",
    "    w1=line_parameters.item(0)\n",
    "    w2=line_parameters.item(1)\n",
    "    b=line_parameters.item(2)\n",
    "\n",
    "    x1=np.array([points[:,0].min(), points[:,0].max()])\n",
    "    x2= -b/w2 + (x1*(-w1/w2))\n",
    "  draw(x1,x2)"
   ]
  },
  {
   "cell_type": "code",
   "execution_count": 150,
   "id": "b067cf28-817a-473e-b5c4-ef2278f7229b",
   "metadata": {},
   "outputs": [],
   "source": [
    "Point = namedtuple('Point', 'x y')\n",
    "n_pts = 1000\n",
    "bias = np.ones(n_pts)\n",
    "c_top = Point(10,12)\n",
    "c_bot = Point(5,6)\n",
    "top_range = np.array([np.random.normal(c_top.x,2,n_pts),np.random.normal(c_top.y,2,n_pts), bias]).T\n",
    "bot_range = np.array([np.random.normal(c_bot.x,2,n_pts),np.random.normal(c_bot.y,2,n_pts), bias]).T\n",
    "# combine both to one dataset using np.stack\n",
    "all = np.vstack((top_range,bot_range))"
   ]
  },
  {
   "cell_type": "code",
   "execution_count": 151,
   "id": "56fa41eb-09d9-4f5a-b4e5-42566ff1f45e",
   "metadata": {},
   "outputs": [],
   "source": [
    "# Eqaution to fit is:\n",
    "# w1x1 + w2x2 + b = 0\n",
    "# x2 = -b / w2 + x1*(-w1/w2)\n",
    "\n",
    "# start vals:\n",
    "# w1 = -0.1\n",
    "# w2 = -0.28\n",
    "# b = 3.5\n",
    "line_params = np.matrix(np.zeros(3)).T\n",
    "# x1 = np.array([ bot_range[:,0].min(), top_range[:,0].max()])\n",
    "# #x2 = -b/w2 + (x1*(-w1/w2))\n",
    "# x2 = -b/w2 + (x1*(-w1/w2))\n",
    "# geneate labels matrix with ones and zeros:\n",
    "y = np.array([np.zeros(n_pts), np.ones(n_pts)]).reshape(n_pts*2, 1)\n"
   ]
  },
  {
   "cell_type": "code",
   "execution_count": 152,
   "id": "5de854e1-d922-4d10-b46f-92678367aca1",
   "metadata": {},
   "outputs": [
    {
     "data": {
      "image/png": "[encoded data removed]",
      "text/plain": [
       "<Figure size 432x432 with 1 Axes>"
      ]
     },
     "metadata": {
      "needs_background": "light"
     },
     "output_type": "display_data"
    }
   ],
   "source": [
    "_, ax = plt.subplots(figsize=(6,6))\n",
    "ax.scatter(top_range[:,0],top_range[:,1], color ='r')\n",
    "ax.scatter(bot_range[:,0],bot_range[:,1], color ='b')\n",
    "ax.text(0.1,0.9,f'Error: \\n {str(calculate_error(line_params, all, y).item())}',horizontalalignment='left',\n",
    "     verticalalignment='center',\n",
    "     transform = ax.transAxes)\n",
    "gradient_descent(line_params, all, y , 0.06)\n",
    "# draw(x1,x2);"
   ]
  },
  {
   "cell_type": "code",
   "execution_count": 153,
   "id": "e4324220-f7d3-4e3c-a2e7-0efe0042c6c4",
   "metadata": {},
   "outputs": [
    {
     "name": "stdout",
     "output_type": "stream",
     "text": [
      "[[0.69314718]]\n"
     ]
    }
   ],
   "source": [
    "print(calculate_error(line_params, all, y))"
   ]
  },
  {
   "cell_type": "code",
   "execution_count": 155,
   "id": "f4a66983-7b40-4be5-b3ed-74a67b73ffcb",
   "metadata": {},
   "outputs": [
    {
     "data": {
      "text/plain": [
       "110.5"
      ]
     },
     "execution_count": 155,
     "metadata": {},
     "output_type": "execute_result"
    }
   ],
   "source": [
    "130*.85"
   ]
  },
  {
   "cell_type": "code",
   "execution_count": null,
   "id": "01d1383a-00ed-4b80-859c-ea51e73320be",
   "metadata": {},
   "outputs": [],
   "source": []
  }
 ],
 "metadata": {
  "kernelspec": {
   "display_name": "Python 3 (ipykernel)",
   "language": "python",
   "name": "python3"
  },
  "language_info": {
   "codemirror_mode": {
    "name": "ipython",
    "version": 3
   },
   "file_extension": ".py",
   "mimetype": "text/x-python",
   "name": "python",
   "nbconvert_exporter": "python",
   "pygments_lexer": "ipython3",
   "version": "3.8.11"
  }
 },
 "nbformat": 4,
 "nbformat_minor": 5
}
