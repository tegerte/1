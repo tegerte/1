{
 "cells": [
  {
   "cell_type": "code",
   "execution_count": 91,
   "id": "2f4bf90e",
   "metadata": {},
   "outputs": [],
   "source": [
    "import numpy as np\n",
    "radius= 90\n",
    "mat_stärke = 18\n",
    "saegebleatt_staerke= 2.9"
   ]
  },
  {
   "cell_type": "markdown",
   "id": "40a9ab72",
   "metadata": {},
   "source": [
    "> Die Materialdifferenzen (Innen und Aussenumfang) kürzen sich weg. Daher bleibt die Anzahl der Sägeschnitte konstant, wenn die Radien sich ändern, da die Differenz nur von der Materialstärke abhängt."
   ]
  },
  {
   "cell_type": "code",
   "execution_count": 92,
   "id": "c6c74b1f",
   "metadata": {},
   "outputs": [
    {
     "name": "stdout",
     "output_type": "stream",
     "text": [
      "Lücke: 28.274333882308138\n"
     ]
    }
   ],
   "source": [
    "st= .5*np.pi*mat_stärke\n",
    "print(f'Lücke: {st}')"
   ]
  },
  {
   "cell_type": "code",
   "execution_count": 93,
   "id": "469c2b37",
   "metadata": {},
   "outputs": [
    {
     "name": "stdout",
     "output_type": "stream",
     "text": [
      "Schnitte: 9.75\n"
     ]
    }
   ],
   "source": [
    "viertel_Umfang_aussen= 0.5*np.pi*radius\n",
    "viertel_Umfang_innen = 0.5*np.pi*(radius - mat_stärke)\n",
    "dif = viertel_Umfang_aussen - viertel_Umfang_innen\n",
    "Anz_schnitte =dif/saegebleatt_staerke\n",
    "print(f'Schnitte: {Anz_schnitte:.2f}')"
   ]
  },
  {
   "cell_type": "code",
   "execution_count": 94,
   "id": "3c992b98",
   "metadata": {},
   "outputs": [
    {
     "name": "stdout",
     "output_type": "stream",
     "text": [
      "Es sind 10 Schnitte auf einer Länge von 113mm nötig.\n"
     ]
    }
   ],
   "source": [
    "print(f'Es sind {np.ceil(Anz_schnitte):.0f} Schnitte \\\n",
    "auf einer Länge von {viertel_Umfang_innen:.0f}mm nötig.')"
   ]
  },
  {
   "cell_type": "code",
   "execution_count": 98,
   "id": "81e8aa46",
   "metadata": {},
   "outputs": [
    {
     "name": "stdout",
     "output_type": "stream",
     "text": [
      "Abstand der Schnitte: 11.0mm\n"
     ]
    }
   ],
   "source": [
    "print(f'Abstand der Schnitte: {((viertel_Umfang_innen-saegebleatt_staerke)/np.ceil(Anz_schnitte)):.1f}mm')"
   ]
  }
 ],
 "metadata": {
  "kernelspec": {
   "display_name": "Python 3 (ipykernel)",
   "language": "python",
   "name": "python3"
  },
  "language_info": {
   "codemirror_mode": {
    "name": "ipython",
    "version": 3
   },
   "file_extension": ".py",
   "mimetype": "text/x-python",
   "name": "python",
   "nbconvert_exporter": "python",
   "pygments_lexer": "ipython3",
   "version": "3.8.11"
  }
 },
 "nbformat": 4,
 "nbformat_minor": 5
}
