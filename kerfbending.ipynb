{
 "cells": [
  {
   "cell_type": "code",
   "execution_count": 53,
   "id": "ba04d893",
   "metadata": {},
   "outputs": [],
   "source": [
    "import numpy as np\n",
    "radius= 90\n",
    "mat_stärke = 18\n",
    "saegebleatt_staerke= 2.9"
   ]
  },
  {
   "cell_type": "markdown",
   "id": "61d3ef22",
   "metadata": {},
   "source": [
    "> Die Materialdifferenzen (Innen und Aussenumfang) kürzen sich weg. Daher bleibt die Anzahl der Sägeschnitte konstant, wenn die Radien sich ändern, da die Differenz nur von der Materialstärke abhängt."
   ]
  },
  {
   "cell_type": "code",
   "execution_count": 54,
   "id": "029d778c",
   "metadata": {},
   "outputs": [
    {
     "name": "stdout",
     "output_type": "stream",
     "text": [
      "Lücke: 28.274333882308138\n"
     ]
    }
   ],
   "source": [
    "st= .5*np.pi*mat_stärke\n",
    "print(f'Lücke: {st}')"
   ]
  },
  {
   "cell_type": "code",
   "execution_count": 55,
   "id": "5fd921d4",
   "metadata": {},
   "outputs": [
    {
     "name": "stdout",
     "output_type": "stream",
     "text": [
      "Schnitte: 9.75\n"
     ]
    }
   ],
   "source": [
    "weg_aussen= 0.5*np.pi*radius\n",
    "weg_innen = 0.5*np.pi*(radius-mat_stärke)\n",
    "dif = weg_aussen-weg_innen\n",
    "print(f'Schnitte: {dif/saegebleatt_staerke:.2f}')"
   ]
  },
  {
   "cell_type": "code",
   "execution_count": 56,
   "id": "b5619e15",
   "metadata": {},
   "outputs": [
    {
     "name": "stdout",
     "output_type": "stream",
     "text": [
      "Es sind 10 Schnitte auf einer Länge von 113mm nötig.\n"
     ]
    }
   ],
   "source": [
    "print(f'Es sind {np.ceil(st/saegebleatt_staerke):.0f} Schnitte auf einer Länge von {weg_innen:.0f}mm nötig.')"
   ]
  },
  {
   "cell_type": "code",
   "execution_count": null,
   "id": "ec7f0e15",
   "metadata": {},
   "outputs": [],
   "source": []
  }
 ],
 "metadata": {
  "kernelspec": {
   "display_name": "Python 3 (ipykernel)",
   "language": "python",
   "name": "python3"
  },
  "language_info": {
   "codemirror_mode": {
    "name": "ipython",
    "version": 3
   },
   "file_extension": ".py",
   "mimetype": "text/x-python",
   "name": "python",
   "nbconvert_exporter": "python",
   "pygments_lexer": "ipython3",
   "version": "3.8.11"
  }
 },
 "nbformat": 4,
 "nbformat_minor": 5
}
