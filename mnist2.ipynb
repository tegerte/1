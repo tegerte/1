{
  "nbformat": 4,
  "nbformat_minor": 0,
  "metadata": {
    "colab": {
      "name": "mnist2.ipynb",
      "provenance": [],
      "collapsed_sections": [],
      "authorship_tag": "ABX9TyNHJdOJfduzq6s16dU6iPlP",
      "include_colab_link": true
    },
    "kernelspec": {
      "name": "python3",
      "display_name": "Python 3"
    },
    "language_info": {
      "name": "python"
    }
  },
  "cells": [
    {
      "cell_type": "markdown",
      "metadata": {
        "id": "view-in-github",
        "colab_type": "text"
      },
      "source": [
        "<a href=\"https://colab.research.google.com/github/tegerte/1/blob/main/mnist2.ipynb\" target=\"_parent\"><img src=\"https://colab.research.google.com/assets/colab-badge.svg\" alt=\"Open In Colab\"/></a>"
      ]
    },
    {
      "cell_type": "code",
      "execution_count": 7,
      "metadata": {
        "id": "O8LumkygnuVA"
      },
      "outputs": [],
      "source": [
        "import numpy as np\n",
        "import matplotlib.pyplot as plt\n",
        "from seaborn.palettes import color_palette\n",
        "import seaborn as sb\n",
        "\n",
        "import keras\n",
        "from keras.models import Sequential\n",
        "from keras.layers import Dense\n",
        "from tensorflow.keras.optimizers import Adam\n",
        "from keras.utils.np_utils import to_categorical\n",
        "import tensorflow as tf\n",
        "\n",
        "\n",
        "from keras.datasets import mnist\n",
        "import random\n",
        "\n",
        "import requests\n",
        "from PIL import Image\n",
        "import cv2\n",
        "\n"
      ]
    },
    {
      "cell_type": "code",
      "source": [
        "sb.set_theme(style=\"darkgrid\")\n",
        "np.random.seed(0)\n",
        "num_f_samples = []\n",
        "cols = 10\n",
        "num_classes = 10\n",
        "\n",
        "sb.set_theme(style=\"darkgrid\")\n",
        "#  Learning rate\n",
        "LR=0.01\n",
        "n_pts=500\n",
        "# Nmber of epochs\n",
        "EP=10\n",
        "#Batch size\n",
        "BS=200\n",
        "#  Validation split\n",
        "VS=0.1"
      ],
      "metadata": {
        "id": "41zCd3A65ObA"
      },
      "execution_count": 8,
      "outputs": []
    },
    {
      "cell_type": "code",
      "source": [
        "def plot_controlgraphs(hist, incl_validation = False):\n",
        "  plt.plot(hist.history['accuracy'],label='accuracy')\n",
        "  plt.plot(hist.history['loss'],label='loss')\n",
        "  if incl_validation:\n",
        "    plt.plot(hist.history['val_loss'],label='val_loss')\n",
        "    plt.plot(hist.history['val_accuracy'],label='val_acc')\n",
        "  plt.title(str('accuracy and loss'))\n",
        "  plt.xlabel('epochs')\n",
        "  plt.legend()\n",
        "  plt.show()"
      ],
      "metadata": {
        "id": "IbI-r8775i8H"
      },
      "execution_count": 9,
      "outputs": []
    },
    {
      "cell_type": "code",
      "source": [
        "(X_train, y_train),(X_test, y_test_raw) = mnist.load_data()"
      ],
      "metadata": {
        "id": "bL4hKIJK5TtJ"
      },
      "execution_count": 10,
      "outputs": []
    },
    {
      "cell_type": "code",
      "source": [
        "print(X_train.shape)"
      ],
      "metadata": {
        "colab": {
          "base_uri": "https://localhost:8080/"
        },
        "id": "gQU10qR65j7-",
        "outputId": "125205f8-a688-4433-949c-5f3c7b57c1b3"
      },
      "execution_count": 11,
      "outputs": [
        {
          "output_type": "stream",
          "name": "stdout",
          "text": [
            "(60000, 28, 28)\n"
          ]
        }
      ]
    },
    {
      "cell_type": "code",
      "source": [
        "assert(X_train.shape[0] == y_train.shape[0]), 'Not all samples are labelled!'\n",
        "assert(X_test.shape[0] == y_test_raw.shape[0]), 'Not all samples are labelled!'\n",
        "assert(X_train.shape[1:] == (28,28)), 'image dimensions not correct!'\n",
        "assert(X_test.shape[1:] == (28,28)), 'image dimensions not correct!'"
      ],
      "metadata": {
        "id": "P-uPLDAk6lbR"
      },
      "execution_count": 12,
      "outputs": []
    },
    {
      "cell_type": "code",
      "source": [
        "X_train.shape[1:]==(28,28)"
      ],
      "metadata": {
        "colab": {
          "base_uri": "https://localhost:8080/"
        },
        "id": "0CFyBPUV7wUw",
        "outputId": "a7b10e99-a5c6-4677-eb0d-49ae0da3aea4"
      },
      "execution_count": 13,
      "outputs": [
        {
          "output_type": "execute_result",
          "data": {
            "text/plain": [
              "True"
            ]
          },
          "metadata": {},
          "execution_count": 13
        }
      ]
    },
    {
      "cell_type": "code",
      "source": [
        "num_f_samples = {}\n",
        "#fig, ax = plt.subplots(nrows=num_classes, ncols=cols, figsize=(12,12))\n",
        "#fig.tight_layout()\n",
        "\n",
        "for i in range(cols):\n",
        "  for j in range(num_classes):\n",
        "    x_sel = X_train[y_train==j]\n",
        "    # ax[j][i].axis('off')\n",
        "    # ax[j][i].imshow(x_sel[random.randint(0,len(x_sel-1)),:,:], cmap='Greys')\n",
        "    if i ==2:\n",
        "      num_f_samples[j]=(len(x_sel))\n",
        "    \n",
        "   "
      ],
      "metadata": {
        "id": "4_CAcWgG768o"
      },
      "execution_count": 14,
      "outputs": []
    },
    {
      "cell_type": "code",
      "source": [
        "plt.figure(figsize=(12,5))\n",
        "#plt.bar(num_f_samples.keys(), num_f_samples.values())\n",
        "plt.bar(*zip(*num_f_samples.items()))\n",
        "plt.xlabel('Class number')\n",
        "plt.ylabel('Number of samples in class')\n",
        "plt.title('Distibution of classes in training dataset');"
      ],
      "metadata": {
        "colab": {
          "base_uri": "https://localhost:8080/",
          "height": 355
        },
        "id": "2nbKG-fn-hYg",
        "outputId": "bc83754d-d940-48d6-fd75-d89891f4023e"
      },
      "execution_count": 15,
      "outputs": [
        {
          "output_type": "display_data",
          "data": {
            "image/png": "[encoded data removed]",
            "text/plain": [
              "<Figure size 864x360 with 1 Axes>"
            ]
          },
          "metadata": {}
        }
      ]
    },
    {
      "cell_type": "code",
      "source": [
        "print(*zip(*num_f_samples.items()))"
      ],
      "metadata": {
        "colab": {
          "base_uri": "https://localhost:8080/"
        },
        "id": "yXIiR0o_EkLg",
        "outputId": "6d69d06b-ffd2-4d1a-e768-b78ef6182429"
      },
      "execution_count": 16,
      "outputs": [
        {
          "output_type": "stream",
          "name": "stdout",
          "text": [
            "(0, 1, 2, 3, 4, 5, 6, 7, 8, 9) (5923, 6742, 5958, 6131, 5842, 5421, 5918, 6265, 5851, 5949)\n"
          ]
        }
      ]
    },
    {
      "cell_type": "code",
      "source": [
        "y_train = to_categorical(y_train, num_classes)\n",
        "y_test = to_categorical(y_test_raw, num_classes)\n",
        "#normalizing to 0-1 value range\n",
        "X_train = X_train/255\n",
        "X_test = X_test/255\n",
        "# flatten so matrix multilication is possible:\n",
        "num_pix= X_train.shape[1]*X_train.shape[2]\n",
        "X_train  =  X_train.reshape(X_train.shape[0], num_pix)\n",
        "X_test  =  X_test.reshape(X_test.shape[0], num_pix)\n",
        "print(X_train.shape)"
      ],
      "metadata": {
        "colab": {
          "base_uri": "https://localhost:8080/"
        },
        "id": "t8RI5lv4IXF4",
        "outputId": "4c64537f-28e8-48ad-d9d6-49c6a6d26722"
      },
      "execution_count": 17,
      "outputs": [
        {
          "output_type": "stream",
          "name": "stdout",
          "text": [
            "(60000, 784)\n"
          ]
        }
      ]
    },
    {
      "cell_type": "code",
      "source": [
        "def create_model():\n",
        "  model=Sequential()\n",
        "  model.add(Dense(units=10,input_dim=num_pix,activation='relu'))\n",
        "  model.add(Dense(units=30,activation='relu'))\n",
        "  model.add(Dense(units=10,activation='relu'))\n",
        "  model.add(Dense(units=num_classes,activation='softmax'))\n",
        "  model.compile(Adam(learning_rate=LR) ,\n",
        "              loss='categorical_crossentropy',\n",
        "              metrics=['accuracy'])\n",
        "  return model"
      ],
      "metadata": {
        "id": "trTJggBrVJCm"
      },
      "execution_count": 18,
      "outputs": []
    },
    {
      "cell_type": "code",
      "source": [
        "model=create_model()\n",
        "print(model.summary())"
      ],
      "metadata": {
        "colab": {
          "base_uri": "https://localhost:8080/"
        },
        "id": "sm9HI8ztX39I",
        "outputId": "279c90f8-8888-4a2b-f6dc-00c60ac9d24f"
      },
      "execution_count": 19,
      "outputs": [
        {
          "output_type": "stream",
          "name": "stdout",
          "text": [
            "Model: \"sequential\"\n",
            "_________________________________________________________________\n",
            " Layer (type)                Output Shape              Param #   \n",
            "=================================================================\n",
            " dense (Dense)               (None, 10)                7850      \n",
            "                                                                 \n",
            " dense_1 (Dense)             (None, 30)                330       \n",
            "                                                                 \n",
            " dense_2 (Dense)             (None, 10)                310       \n",
            "                                                                 \n",
            " dense_3 (Dense)             (None, 10)                110       \n",
            "                                                                 \n",
            "=================================================================\n",
            "Total params: 8,600\n",
            "Trainable params: 8,600\n",
            "Non-trainable params: 0\n",
            "_________________________________________________________________\n",
            "None\n"
          ]
        }
      ]
    },
    {
      "cell_type": "code",
      "source": [
        "h=model.fit(x = X_train,y = y_train,validation_split = VS,\n",
        "            verbose=1,\n",
        "            batch_size = BS,\n",
        "            epochs = EP,\n",
        "            shuffle = 'true')\n",
        "plot_controlgraphs(h, incl_validation=True)"
      ],
      "metadata": {
        "colab": {
          "base_uri": "https://localhost:8080/",
          "height": 648
        },
        "id": "X7E-xiKHYC2Z",
        "outputId": "80222b9f-374f-4b4f-b59b-cc7f735ecf6a"
      },
      "execution_count": 20,
      "outputs": [
        {
          "output_type": "stream",
          "name": "stdout",
          "text": [
            "Epoch 1/10\n",
            "270/270 [==============================] - 2s 4ms/step - loss: 0.5335 - accuracy: 0.8334 - val_loss: 0.2282 - val_accuracy: 0.9300\n",
            "Epoch 2/10\n",
            "270/270 [==============================] - 1s 3ms/step - loss: 0.2785 - accuracy: 0.9175 - val_loss: 0.2132 - val_accuracy: 0.9372\n",
            "Epoch 3/10\n",
            "270/270 [==============================] - 1s 3ms/step - loss: 0.2508 - accuracy: 0.9265 - val_loss: 0.2306 - val_accuracy: 0.9333\n",
            "Epoch 4/10\n",
            "270/270 [==============================] - 1s 3ms/step - loss: 0.2278 - accuracy: 0.9333 - val_loss: 0.1887 - val_accuracy: 0.9468\n",
            "Epoch 5/10\n",
            "270/270 [==============================] - 1s 3ms/step - loss: 0.2213 - accuracy: 0.9343 - val_loss: 0.1855 - val_accuracy: 0.9443\n",
            "Epoch 6/10\n",
            "270/270 [==============================] - 1s 3ms/step - loss: 0.2141 - accuracy: 0.9367 - val_loss: 0.1899 - val_accuracy: 0.9458\n",
            "Epoch 7/10\n",
            "270/270 [==============================] - 1s 3ms/step - loss: 0.2056 - accuracy: 0.9383 - val_loss: 0.1909 - val_accuracy: 0.9443\n",
            "Epoch 8/10\n",
            "270/270 [==============================] - 1s 3ms/step - loss: 0.2076 - accuracy: 0.9380 - val_loss: 0.1833 - val_accuracy: 0.9453\n",
            "Epoch 9/10\n",
            "270/270 [==============================] - 1s 3ms/step - loss: 0.2031 - accuracy: 0.9391 - val_loss: 0.1799 - val_accuracy: 0.9467\n",
            "Epoch 10/10\n",
            "270/270 [==============================] - 1s 3ms/step - loss: 0.1999 - accuracy: 0.9403 - val_loss: 0.1860 - val_accuracy: 0.9470\n"
          ]
        },
        {
          "output_type": "display_data",
          "data": {
            "image/png": "[encoded data removed]",
            "text/plain": [
              "<Figure size 432x288 with 1 Axes>"
            ]
          },
          "metadata": {}
        }
      ]
    },
    {
      "cell_type": "code",
      "source": [
        "url = 'https://www.researchgate.net/profile/Jose_Sempere/publication/221258631/figure/fig1/AS:305526891139075@1449854695342/Handwritten-digit-5.png'\n",
        "response = requests.get(url, stream=True)\n",
        "img_raw = Image.open(response.raw)\n",
        "plt.imshow(img_raw, cmap=plt.get_cmap('gray'));"
      ],
      "metadata": {
        "id": "G03irQbGVm7C"
      },
      "execution_count": null,
      "outputs": []
    },
    {
      "cell_type": "code",
      "source": [
        "img_arr = np.asarray(img_raw)\n",
        "img_res = cv2.resize(img_arr, (28, 28))\n",
        "img_gs = cv2.cvtColor(img_res, cv2.COLOR_BGR2GRAY)\n",
        "img_rev = cv2.bitwise_not(img_gs)\n",
        "#plt.imshow(img, cmap=plt.get_cmap('gray'))\n",
        "\n",
        "img_norm = img_rev/255\n",
        "img_reshape = img_norm.reshape(1, 784)\n",
        "\n",
        "prediction = np.argmax(model.predict(img_reshape), axis=-1)\n",
        "print(f'prediction for input is:{str(prediction)}')"
      ],
      "metadata": {
        "colab": {
          "base_uri": "https://localhost:8080/"
        },
        "id": "aHyEGgEoVqSr",
        "outputId": "a14c8802-12f1-4b25-e83a-8ba99a82ff0c"
      },
      "execution_count": 22,
      "outputs": [
        {
          "output_type": "stream",
          "name": "stdout",
          "text": [
            "prediction for input is:[5]\n"
          ]
        }
      ]
    },
    {
      "cell_type": "code",
      "source": [
        "# y_pred = model.predict(X_test)\n",
        "# y_pred_labels= [np.argmax(i) for i in y_pred]\n",
        "# #print(y_test[:5])\n",
        "# cm = tf.math.confusion_matrix(labels=y_test_raw, predictions=y_pred_labels)\n",
        "# plt.figure(figsize=(10,7))\n",
        "# sb.heatmap(cm,annot=True, fmt='d');\n",
        "# plt.xlabel('predicted')\n",
        "# plt.ylabel('real')"
      ],
      "metadata": {
        "id": "UPQVJ4OdaRPb"
      },
      "execution_count": 23,
      "outputs": []
    }
  ]
}